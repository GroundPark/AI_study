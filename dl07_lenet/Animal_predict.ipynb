﻿# 2.Loading a pre-tained model from disk

import cv2
import numpy as np
import matplotlib.pyplot as plt
# colab
from google.colab.patches import cv2_imshow
# deep learning
from skimage.exposure import rescale_intensity
from sklearn.preprocessing import LabelBinarizer
from keras.optimizers import SGD
from sklearn.model_selection import train_test_split 
from sklearn.metrics import classification_report 
from keras.models import load_model
# l2
#from preprocessing import ImageToArrayPreprocessor 
#from preprocessing import SimplePreprocessor 
#from datasets import SimpleDatasetLoader
#from preprocessing import shallownet 
from imutils import paths

from keras.preprocessing.image import img_to_array
from keras.models import Sequential
from keras.layers.convolutional import Conv2D
from keras.layers.core import Activation
from keras.layers.core import Flatten
from keras.layers.core import Dense
from keras import backend as K

class SimpleDatasetLoader:

	def __init__(self, preprocessors=None):
		# store the image preprocessor
		self.preprocessors = preprocessors

		# if the preprocessors are None, initialize them as an
		# empty list
		if self.preprocessors is None:
			self.preprocessors = []

	def load(self, imagePaths, verbose=-1):
		data = []
		labels = []
		for (i, imagePath) in enumerate(imagePaths):
			image = cv2.imread(imagePath)
			label = imagePath.split(os.path.sep)[-2]
			if self.preprocessors is not None:
				for p in self.preprocessors:
					image = p.preprocess(image)
			data.append(image)
			labels.append(label)
			if verbose > 0 and i > 0 and (i + 1) % verbose == 0:
				print("[INFO] processed {}/{}".format(i + 1,
					len(imagePaths)))

		return (np.array(data), np.array(labels))

class SimplePreprocessor:
	def __init__(self, width, height, inter=cv2.INTER_AREA):
		self.width = width
		self.height = height
		self.inter = inter

	def preprocess(self, image):
		return cv2.resize(image, (self.width, self.height),
			interpolation=self.inter)

class ImageToArrayPreprocessor:
    def __init__(self, dataFormat=None):
        self.dataFormat = dataFormat

    def preprocess(self, image):
        return img_to_array(image, data_format=self.dataFormat)


# grab the list of images that we'll be describing
print("[INFO] loading images...")
args = {'dataset':'/content/gdrive/My Drive/class/datasets/animals', 'model':'/content/gdrive/My Drive/class/lenet_only.hdf5'} 
imagePaths = list(paths.list_images(args['dataset']))

classLabels = ["cat", "dog", "panda"]

print("[INFO] sampling images...")
imagePaths = np.array(list(paths.list_images(args["dataset"])))
idxs = np.random.randint(0, len(imagePaths), size=(10,))
imagePaths = imagePaths[idxs]

sp = SimplePreprocessor(32,32)
iap = ImageToArrayPreprocessor()

sdl = SimpleDatasetLoader(preprocessors=[sp, iap])
(data, labels) = sdl.load(imagePaths)
data = data.astype("float") / 255.0

print("[INFO] Loading pre-trained network...")
model = load_model(args["model"])

print("[INFO] Predicting...")
preds = model.predict(data, batch_size=32).argmax(axis=1)

for(i, imagePath) in enumerate(imagePaths):
   image = cv2.imread(imagePath)
   cv2.putText(image, "Label: {}".format(classLabels[preds[i]]),
    (10,30),cv2.FONT_HERSHEY_SIMPLEX, 0.7, (0, 255, 0), 2)
   print("{}".format("Image"))
   cv2_imshow(image)
   cv2.waitKey(0)

