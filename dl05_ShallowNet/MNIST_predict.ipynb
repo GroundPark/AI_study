﻿# DL7 to DL5 2
import cv2
import numpy as np
import matplotlib.pyplot as plt
# colab
from google.colab.patches import cv2_imshow
# deep learning
from skimage.exposure import rescale_intensity
from sklearn.preprocessing import LabelBinarizer
from sklearn.metrics import classification_report
from keras.optimizers import SGD
from sklearn.model_selection import train_test_split 
from sklearn.metrics import classification_report 
# l2 경로잘못해서 일단 뺌
#from preprocessing import ImageToArrayPreprocessor 
#from preprocessing import SimplePreprocessor 
#from datasets import SimpleDatasetLoader
#from preprocessing import shallownet 
from imutils import paths

from keras.models import Sequential
from keras.layers.convolutional import Conv2D
from keras.layers.core import Activation
from keras.layers.core import Flatten
from keras.layers.core import Dense
from keras import backend as K
from keras.preprocessing.image import img_to_array
from keras.models import load_model


class SimpleDatasetLoader:

	def __init__(self, preprocessors=None):
		# store the image preprocessor
		self.preprocessors = preprocessors

		# if the preprocessors are None, initialize them as an
		# empty list
		if self.preprocessors is None:
			self.preprocessors = []

	def load(self, imagePaths, verbose=-1):
		# initialize the list of features and labels
		data = []
		labels = []

		# loop over the input images
		for (i, imagePath) in enumerate(imagePaths):
			# load the image and extract the class label assuming
			# that our path has the following format:
			# /path/to/dataset/{class}/{image}.jpg
			image = cv2.imread(imagePath)
			label = imagePath.split(os.path.sep)[-2]

			# check to see if our preprocessors are not None
			if self.preprocessors is not None:
				# loop over the preprocessors and apply each to
				# the image
				for p in self.preprocessors:
					image = p.preprocess(image)

			# treat our processed image as a "feature vector"
			# by updating the data list followed by the labels
			data.append(image)
			labels.append(label)

			# show an update every `verbose` images
			if verbose > 0 and i > 0 and (i + 1) % verbose == 0:
				print("[INFO] processed {}/{}".format(i + 1,
					len(imagePaths)))

		# return a tuple of the data and labels
		return (np.array(data), np.array(labels))
	
class SimplePreprocessor:
	def __init__(self, width, height, inter=cv2.INTER_AREA):
		self.width = width
		self.height = height
		self.inter = inter

	def preprocess(self, image):
		return cv2.resize(image, (self.width, self.height),
			interpolation=self.inter)

class ImageToArrayPreprocessor:
    def __init__(self, dataFormat=None):
        self.dataFormat = dataFormat

    def preprocess(self, image):
        return img_to_array(image, data_format=self.dataFormat)

class ShallowNet:
	@staticmethod
	def build(width, height, depth, classes):
		model = Sequential()
		inputShape = (height, width, depth)

		if K.image_data_format() == "channels_first":
			inputShape = (depth, height, width)

		model.add(Conv2D(32, (3, 3), padding="same",
			input_shape=inputShape))
		model.add(Activation("relu"))

		model.add(Flatten())
		model.add(Dense(classes))
		model.add(Activation("softmax"))
		return model

# MNIST dataset 이미지, 모델 로드
print("[INFO] loading images...")
args = {'dataset':'/content/gdrive/My Drive/class/datasets/MNIST', 'model':'/content/gdrive/My Drive/class/shallownet_weights_MNIST.hdf5'} 
imagePaths = list(paths.list_images(args['dataset']))

# 넣을 레이블 텍스트 설정
classLabels = ["0", "1", "2", "3", "4", "5", "6", "7", "8", "9"]

#이미지 샘플링, 이미지중 랜덤한 10개 뽑아 array, index 저장
print("[INFO] sampling images...")
imagePaths = np.array(list(paths.list_images(args["dataset"])))
idxs = np.random.randint(0, len(imagePaths), size=(10,))
imagePaths = imagePaths[idxs]

#simplepreprocessor 및 simpledatasetloader 설정
sp = SimplePreprocessor(32,32)
iap = ImageToArrayPreprocessor()

sdl = SimpleDatasetLoader(preprocessors=[sp, iap])
(data, labels) = sdl.load(imagePaths)
data = data.astype("float") / 255.0

# 미리 만들어놓은 네트워크 모델 로드
print("[INFO] Loading pre-trained network...")
model = load_model(args["model"])

# 모델 이용해 이미지를 예측
print("[INFO] Predicting...")
preds = model.predict(data, batch_size=32).argmax(axis=1)

# 이미지에 cv2메소드를 이용해 예측한 레이블 텍스트 넣기
for(i, imagePath) in enumerate(imagePaths):
   image = cv2.imread(imagePath)
   cv2.putText(image, "{}".format(classLabels[preds[i]]),
    (0,15),cv2.FONT_HERSHEY_SIMPLEX, 0.5, (0, 255, 0), 1)
   print("{}".format("Image"))
   cv2_imshow(image)
   cv2.waitKey(0)
